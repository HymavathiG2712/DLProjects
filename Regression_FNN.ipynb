{
  "nbformat": 4,
  "nbformat_minor": 0,
  "metadata": {
    "colab": {
      "provenance": []
    },
    "kernelspec": {
      "name": "python3",
      "display_name": "Python 3"
    },
    "language_info": {
      "name": "python"
    }
  },
  "cells": [
    {
      "cell_type": "code",
      "execution_count": 1,
      "metadata": {
        "id": "5DYDnq5xP0qr"
      },
      "outputs": [],
      "source": [
        "import torch\n",
        "import torch.nn as nn #built neural network\n",
        "#scikit-learn library (also known as sklearn)\n",
        "import numpy as np"
      ]
    },
    {
      "cell_type": "code",
      "source": [
        "#Generating Data\n",
        "import torch\n",
        "import torch.nn as nn\n",
        "import torch.optim as optim\n",
        "\n",
        "\n",
        "x = torch.Tensor(10, 1).uniform_(-10, 10)\n",
        "y = 4 * x * x + 9 * x - 9\n",
        "\n",
        "#Model Creation\n",
        "class NeuralNet(nn.Module):\n",
        "    def __init__(self, input_size, hidden_size, output_size):\n",
        "        super(NeuralNet, self).__init__()\n",
        "        self.input_layer = nn.Linear(input_size, hidden_size)\n",
        "        self.relu1 = nn.ReLU()\n",
        "        self.hidden_layer = nn.Linear(hidden_size, hidden_size)\n",
        "        self.relu2 = nn.ReLU()\n",
        "        self.output_layer = nn.Linear(hidden_size, output_size)\n",
        "\n",
        "    def forward(self, x):\n",
        "        x = self.input_layer(x)\n",
        "        x = self.relu1(x)\n",
        "        x = self.hidden_layer(x)\n",
        "        x = self.relu2(x)\n",
        "        x = self.output_layer(x)\n",
        "        return x\n",
        "\n",
        "#Initialization\n",
        "model = NeuralNet(1, 32, 1)"
      ],
      "metadata": {
        "id": "lXTuDZ_dP6of"
      },
      "execution_count": 2,
      "outputs": []
    },
    {
      "cell_type": "code",
      "source": [
        "criterion = nn.MSELoss()\n",
        "model.parameters()\n",
        "optimizer = optim.RMSprop(model.parameters(), lr=0.001)  # Adam optimizer with a learning rate"
      ],
      "metadata": {
        "id": "FC-ROOgwP-ty"
      },
      "execution_count": 4,
      "outputs": []
    },
    {
      "cell_type": "code",
      "source": [
        "#Training\n",
        "epochs = 2\n",
        "batch_size = 32"
      ],
      "metadata": {
        "id": "qO8o2NCoQBma"
      },
      "execution_count": 5,
      "outputs": []
    },
    {
      "cell_type": "code",
      "source": [
        "for epoch in range(epochs):\n",
        "    for i in range(0, len(x), batch_size):\n",
        "        inputs = x[i:i+batch_size]\n",
        "        targets = y[i:i+batch_size]\n",
        "\n",
        "        optimizer.zero_grad()\n",
        "        outputs = model(inputs) #y hat\n",
        "        loss = criterion(outputs, targets) #yhat-y as per the MSE calculation\n",
        "        loss.backward() #backpropagation starts derivate of gradients wrt parameters\n",
        "        optimizer.step() #updates model parameters based on computed gradients\n",
        "\n",
        "    if (epoch + 1) % 100 == 0:\n",
        "        print(f'Epoch [{epoch+1}/{epochs}], Loss: {loss.item():.4f}')\n",
        "\n",
        "print('Training complete!')"
      ],
      "metadata": {
        "colab": {
          "base_uri": "https://localhost:8080/"
        },
        "id": "zenJ6BrqQKLk",
        "outputId": "8d2e2092-7351-4097-b590-6678a300546b"
      },
      "execution_count": 6,
      "outputs": [
        {
          "output_type": "stream",
          "name": "stdout",
          "text": [
            "Training complete!\n"
          ]
        }
      ]
    },
    {
      "cell_type": "code",
      "source": [
        "x_test = torch.FloatTensor(10, 1).uniform_(-10, 10)\n",
        "y_test = 4 * x_test**2 + 9 * x_test - 9"
      ],
      "metadata": {
        "id": "HHv4kz-HQPkS"
      },
      "execution_count": 7,
      "outputs": []
    },
    {
      "cell_type": "code",
      "source": [
        "model.eval() #set in evaluation mode\n",
        "with torch.no_grad():  #no gradients should be computed\n",
        "    y_pred = model(x_test) #predicted values\n",
        "\n",
        "test_loss = criterion(y_pred, y_test) #loss calculated\n",
        "print(f'Test Loss: {test_loss.item():.4f}')"
      ],
      "metadata": {
        "colab": {
          "base_uri": "https://localhost:8080/"
        },
        "id": "-w2I7af4QT_X",
        "outputId": "8a1cff17-f15c-4e09-9e1a-46708e667827"
      },
      "execution_count": 8,
      "outputs": [
        {
          "output_type": "stream",
          "name": "stdout",
          "text": [
            "Test Loss: 17190.7578\n"
          ]
        }
      ]
    },
    {
      "cell_type": "code",
      "source": [],
      "metadata": {
        "id": "PXN_1lEHQV7v"
      },
      "execution_count": null,
      "outputs": []
    }
  ]
}